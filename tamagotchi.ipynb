{
  "nbformat": 4,
  "nbformat_minor": 0,
  "metadata": {
    "colab": {
      "name": "chef",
      "provenance": [],
      "authorship_tag": "ABX9TyNkmI05vZ3as1r8Zzs//jlh",
      "include_colab_link": true
    },
    "kernelspec": {
      "name": "python3",
      "display_name": "Python 3"
    },
    "language_info": {
      "name": "python"
    }
  },
  "cells": [
    {
      "cell_type": "markdown",
      "metadata": {
        "id": "view-in-github",
        "colab_type": "text"
      },
      "source": [
        "<a href=\"https://colab.research.google.com/github/germancsaid/apps/blob/main/chef.ipynb\" target=\"_parent\"><img src=\"https://colab.research.google.com/assets/colab-badge.svg\" alt=\"Open In Colab\"/></a>"
      ]
    },
    {
      "cell_type": "code",
      "source": [
        "ndc=list\n",
        "ndc = [\n",
        "    'Uvas',\n",
        "    'Mandarina', \n",
        "    'Naranja', \n",
        "    'Pomelo', \n",
        "    'Frutilla', \n",
        "    'Durazno'\n",
        "    ];"
      ],
      "metadata": {
        "id": "Di9E2o7FtJUC"
      },
      "execution_count": 47,
      "outputs": []
    },
    {
      "cell_type": "code",
      "source": [
        "var=1\n",
        "\n",
        "print(\"--------------------------------------------------\")\n",
        "print(\"Tienes esto para elegir:\")\n",
        "for l in ndc:\n",
        "    print(l) \n",
        "\n",
        "while var!=0:\n",
        "  ndct=list\n",
        "  ndct = ndc\n",
        "\n",
        "  import random\n",
        "  def eleccion(ndct):\n",
        "      return random.choice(ndct)\n",
        "\n",
        "  a=eleccion(ndct)\n",
        "  print(\"--------------------------------------------------\")\n",
        "  print(\"Te toca comer: \", a)\n",
        "  print(\"--------------------------------------------------\")\n",
        "  ndct.remove(a)\n",
        "  print(\"Ahora solo tienes:\")\n",
        "  print(\"--------------------------------------------------\")\n",
        "  for ñ in ndc:\n",
        "      print(ñ)\n",
        "  print(\"--------------------------------------------------\")\n",
        "  print(\"Quieres otra?: \")\n",
        "  respuesta = str\n",
        "  respuesta = input()\n",
        "  if \"si\" in respuesta:\n",
        "    var=1\n",
        "  else: \n",
        "    if \"Si\" in respuesta:\n",
        "      var=1\n",
        "    else: \n",
        "      if \"SI\" in respuesta:\n",
        "        var=1\n",
        "      else: var = 0\n",
        "print(\"chau\")"
      ],
      "metadata": {
        "id": "CbWz4AUVth_w",
        "outputId": "96a01567-e0c5-4be8-c4ca-ca518af2b034",
        "colab": {
          "base_uri": "https://localhost:8080/"
        }
      },
      "execution_count": 48,
      "outputs": [
        {
          "output_type": "stream",
          "name": "stdout",
          "text": [
            "--------------------------------------------------\n",
            "Tienes esto para elegir:\n",
            "Uvas\n",
            "Mandarina\n",
            "Naranja\n",
            "Pomelo\n",
            "Frutilla\n",
            "Durazno\n",
            "--------------------------------------------------\n",
            "Te toca comer:  Mandarina\n",
            "--------------------------------------------------\n",
            "Ahora solo tienes:\n",
            "--------------------------------------------------\n",
            "Uvas\n",
            "Naranja\n",
            "Pomelo\n",
            "Frutilla\n",
            "Durazno\n",
            "--------------------------------------------------\n",
            "Quieres otra?: \n",
            "no\n",
            "chau\n"
          ]
        }
      ]
    }
  ]
}
