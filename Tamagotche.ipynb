{
  "nbformat": 4,
  "nbformat_minor": 0,
  "metadata": {
    "colab": {
      "name": "Tamagotche.ipynb",
      "provenance": [],
      "authorship_tag": "ABX9TyNkmI05vZ3as1r8Zzs//jlh",
      "include_colab_link": true
    },
    "kernelspec": {
      "name": "python3",
      "display_name": "Python 3"
    },
    "language_info": {
      "name": "python"
    }
  },
  "cells": [
    {
      "cell_type": "markdown",
      "metadata": {
        "id": "view-in-github",
        "colab_type": "text"
      },
      "source": [
        "<a href=\"https://colab.research.google.com/github/germancsaid/apps/blob/main/Tamagotche.ipynb\" target=\"_parent\"><img src=\"https://colab.research.google.com/assets/colab-badge.svg\" alt=\"Open In Colab\"/></a>"
      ]
    },
    {
      "cell_type": "code",
      "execution_count": null,
      "metadata": {
        "id": "s_yjPxJ7OcbV"
      },
      "outputs": [],
      "source": [
        "ndc=list\n",
        "ndc = [\n",
        "    'Uvas',\n",
        "    'Mandarina', \n",
        "    'Naranja', \n",
        "    'Pomelo', \n",
        "    'Frutilla', \n",
        "    'Durazno'\n",
        "    ];"
      ]
    },
    {
      "cell_type": "code",
      "source": [
        "var=1\n",
        "\n",
        "print(\"--------------------------------------------------\")\n",
        "print(\"Tienes esto para elegir:\")\n",
        "for l in ndc:\n",
        "    print(l) \n",
        "\n",
        "while var!=0:\n",
        "  ndct=list\n",
        "  ndct = ndc\n",
        "\n",
        "  import random\n",
        "  def eleccion(ndct):\n",
        "      return random.choice(ndct)\n",
        "\n",
        "  a=eleccion(ndct)\n",
        "  print(\"--------------------------------------------------\")\n",
        "  print(\"Te toca comer: \", a)\n",
        "  print(\"--------------------------------------------------\")\n",
        "  ndct.remove(a)\n",
        "  print(\"Ahora solo tienes:\")\n",
        "  print(\"--------------------------------------------------\")\n",
        "  for ñ in ndc:\n",
        "      print(ñ)\n",
        "  print(\"--------------------------------------------------\")\n",
        "  print(\"Quieres otra?: \")\n",
        "  respuesta = str\n",
        "  respuesta = input()\n",
        "  if \"si\" in respuesta:\n",
        "    var=1\n",
        "  else: \n",
        "    if \"Si\" in respuesta:\n",
        "      var=1\n",
        "    else: \n",
        "      if \"SI\" in respuesta:\n",
        "        var=1\n",
        "      else: var = 0\n",
        "print(\"chau\")"
      ],
      "metadata": {
        "id": "u2Nj4PosOphJ"
      },
      "execution_count": null,
      "outputs": []
    }
  ]
}